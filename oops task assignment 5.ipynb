{
 "cells": [
  {
   "cell_type": "code",
   "execution_count": 10,
   "id": "0cb9afa4-ddf2-4022-bc0b-63a1718109a2",
   "metadata": {},
   "outputs": [],
   "source": [
    "'''Q1, Create a vehicle class with an init method having instance variables as name_of_vehicle, max_speed\n",
    "and average_of_vehicle.'''\n",
    "\n",
    "class vehicle:\n",
    "    \n",
    "    def __init__(self, name_of_vehicle, max_speed, average_of_vehicle):\n",
    "        self.name_of_vehicle = name_of_vehicle\n",
    "        self.max_speed = max_speed\n",
    "        self.average_of_vehicle = average_of_vehicle"
   ]
  },
  {
   "cell_type": "code",
   "execution_count": 23,
   "id": "e4a84e91-a5c6-41b1-adf6-caddf3952165",
   "metadata": {},
   "outputs": [],
   "source": [
    "'''Q2. Create a child class car from the vehicle class created in Que 1, which will inherit the vehicle class.\n",
    "Create a method named seating_capacity which takes capacity as an argument and returns the name of\n",
    "the vehicle and its seating capacity.'''\n",
    "\n",
    "class car(vehicle):\n",
    "    \n",
    "    def seating_capacity(self, capacity):\n",
    "        return f\"the seating capacity of {self.name_of_vehicle} is {capacity}\""
   ]
  },
  {
   "cell_type": "code",
   "execution_count": 20,
   "id": "c48022e3-2964-4c52-a8fa-ce07c02477f5",
   "metadata": {},
   "outputs": [],
   "source": [
    "car_obj = car(\"toyota\", 1200, 1.2)"
   ]
  },
  {
   "cell_type": "code",
   "execution_count": 22,
   "id": "ee0f12b7-a1da-4cd0-8617-c860d8d835bd",
   "metadata": {},
   "outputs": [
    {
     "data": {
      "text/plain": [
       "'the seating capacity of toyota is 50'"
      ]
     },
     "execution_count": 22,
     "metadata": {},
     "output_type": "execute_result"
    }
   ],
   "source": [
    "car_obj.seating_capacity(50)"
   ]
  },
  {
   "cell_type": "code",
   "execution_count": 44,
   "id": "8700b72b-8f23-4ad2-9659-68f74eed45cb",
   "metadata": {},
   "outputs": [],
   "source": [
    "'''Q3. What is multiple inheritance? Write a python code to demonstrate multiple inheritance.'''\n",
    "\n",
    "''' multiple inheritance means various classes inheriting the property from each other '''\n",
    "    \n",
    "class class1:\n",
    "    def test_class1(self):\n",
    "        return \"this is first class\"\n",
    "    \n",
    "class class2(class1):\n",
    "    def test_class2(self):\n",
    "        return \"this is 2nd class\"\n",
    "        \n",
    "class class3(class2):\n",
    "    pass        "
   ]
  },
  {
   "cell_type": "code",
   "execution_count": 45,
   "id": "51bd6ac9-18f4-4a65-bbcb-10c7c6fdfad0",
   "metadata": {},
   "outputs": [],
   "source": [
    "class3_obj = class3()"
   ]
  },
  {
   "cell_type": "code",
   "execution_count": 46,
   "id": "9c2ca1e0-c53f-4739-a917-b89c7032d904",
   "metadata": {},
   "outputs": [
    {
     "data": {
      "text/plain": [
       "'this is 2nd class'"
      ]
     },
     "execution_count": 46,
     "metadata": {},
     "output_type": "execute_result"
    }
   ],
   "source": [
    "class3_obj.test_class2()"
   ]
  },
  {
   "cell_type": "code",
   "execution_count": 59,
   "id": "b33bb44b-955c-41a3-95a3-ee1c8ace1f42",
   "metadata": {},
   "outputs": [],
   "source": [
    "'''Q4. What are getter and setter in python? Create a class and create a getter and a setter method in this\n",
    "class.'''\n",
    "\n",
    "'''As private variables are not directly accessible so we use getter and setter to access them'''\n",
    "\n",
    "class details:\n",
    "    \n",
    "    def __init__(self, age=0):\n",
    "        self._age = age\n",
    "        \n",
    "    def get_age(self):\n",
    "        return self._age\n",
    "    \n",
    "    def set_age(self, x):\n",
    "        self._age = x\n",
    "        return f\"new age is {self._age}\"\n",
    "        "
   ]
  },
  {
   "cell_type": "code",
   "execution_count": 60,
   "id": "a9eebe9d-513d-48ab-8551-4eeb76adf67c",
   "metadata": {},
   "outputs": [],
   "source": [
    "details_obj = details()"
   ]
  },
  {
   "cell_type": "code",
   "execution_count": 61,
   "id": "484f651a-23e3-43a6-bcdd-6c5b19e29920",
   "metadata": {},
   "outputs": [
    {
     "data": {
      "text/plain": [
       "0"
      ]
     },
     "execution_count": 61,
     "metadata": {},
     "output_type": "execute_result"
    }
   ],
   "source": [
    "details_obj.get_age()"
   ]
  },
  {
   "cell_type": "code",
   "execution_count": 62,
   "id": "b5a88817-acf4-4243-814c-a832d6851aab",
   "metadata": {},
   "outputs": [
    {
     "data": {
      "text/plain": [
       "'new age is 34'"
      ]
     },
     "execution_count": 62,
     "metadata": {},
     "output_type": "execute_result"
    }
   ],
   "source": [
    "details_obj.set_age(34)"
   ]
  },
  {
   "cell_type": "code",
   "execution_count": 58,
   "id": "c6274257-75e0-43b1-abd9-808bd0294f46",
   "metadata": {},
   "outputs": [
    {
     "data": {
      "text/plain": [
       "34"
      ]
     },
     "execution_count": 58,
     "metadata": {},
     "output_type": "execute_result"
    }
   ],
   "source": [
    "details_obj.get_age()"
   ]
  },
  {
   "cell_type": "code",
   "execution_count": 71,
   "id": "c3300107-d005-4734-8b99-58e5a332a41c",
   "metadata": {},
   "outputs": [],
   "source": [
    "'''Q5.What is method overriding in python? Write a python code to demonstrate method overriding.'''\n",
    "\n",
    "class shape:\n",
    "    \n",
    "    def __init__(self, x, y):\n",
    "        self.x = x\n",
    "        self.y = y\n",
    "        \n",
    "    def area(self):\n",
    "        return self.x * self.y\n",
    "        "
   ]
  },
  {
   "cell_type": "code",
   "execution_count": 72,
   "id": "37057f37-be42-4af3-a30f-e721c4a850b9",
   "metadata": {},
   "outputs": [],
   "source": [
    "rect = shape(2,3)"
   ]
  },
  {
   "cell_type": "code",
   "execution_count": 73,
   "id": "2fc530f6-8175-40b0-a092-1f445484ed92",
   "metadata": {},
   "outputs": [
    {
     "data": {
      "text/plain": [
       "6"
      ]
     },
     "execution_count": 73,
     "metadata": {},
     "output_type": "execute_result"
    }
   ],
   "source": [
    "rect.area()"
   ]
  },
  {
   "cell_type": "code",
   "execution_count": 74,
   "id": "62eb6365-db08-49de-be67-40df5a2723e2",
   "metadata": {},
   "outputs": [],
   "source": [
    "class circle(shape):\n",
    "    \n",
    "    def __init__(self, radius):\n",
    "        self.radius = radius\n",
    "        super().__init__(radius, radius)\n",
    "        \n",
    "    def area(self):\n",
    "        return 3.14 * super().area()"
   ]
  },
  {
   "cell_type": "code",
   "execution_count": 75,
   "id": "8beab2ac-76fb-43fa-840d-ccc4bc0008ad",
   "metadata": {},
   "outputs": [],
   "source": [
    "c = circle(5)"
   ]
  },
  {
   "cell_type": "code",
   "execution_count": 76,
   "id": "c59542e1-3d29-48fa-8b7e-82e9de4ef381",
   "metadata": {},
   "outputs": [
    {
     "data": {
      "text/plain": [
       "78.5"
      ]
     },
     "execution_count": 76,
     "metadata": {},
     "output_type": "execute_result"
    }
   ],
   "source": [
    "c.area()"
   ]
  },
  {
   "cell_type": "code",
   "execution_count": null,
   "id": "00709e68-2971-472e-9299-461ba1143ab7",
   "metadata": {},
   "outputs": [],
   "source": []
  }
 ],
 "metadata": {
  "kernelspec": {
   "display_name": "Python 3 (ipykernel)",
   "language": "python",
   "name": "python3"
  },
  "language_info": {
   "codemirror_mode": {
    "name": "ipython",
    "version": 3
   },
   "file_extension": ".py",
   "mimetype": "text/x-python",
   "name": "python",
   "nbconvert_exporter": "python",
   "pygments_lexer": "ipython3",
   "version": "3.10.8"
  }
 },
 "nbformat": 4,
 "nbformat_minor": 5
}
